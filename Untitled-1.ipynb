{
 "cells": [
  {
   "cell_type": "code",
   "execution_count": null,
   "metadata": {},
   "outputs": [],
   "source": [
    "import epistemic_model\n",
    "\n",
    "em = epistemic_model.EpistemicModel(None)\n",
    "\n",
    "eg = [(\"b [b] b [c] ('secret-a','f')\", 1), (\"b [c] ('secret-a','t')\", 1), (\"b [b] ('secret-a','t')\", 1), (\"b [d] b [c] ('secret-a','t')\", 1)]\n",
    "\n",
    "\n",
    "em.epistemicGoalsHandler(eg,'',[])\n"
   ]
  },
  {
   "cell_type": "code",
   "execution_count": 6,
   "metadata": {},
   "outputs": [
    {
     "name": "stdout",
     "output_type": "stream",
     "text": [
      "[\"'secret-a'\", \"'t'\"]\n",
      "secret-a\n"
     ]
    }
   ],
   "source": [
    "test = \"('secret-a','t')\"\n",
    "\n",
    "print(test[1:-1].split(\",\"))\n",
    "\n",
    "content_list = test[1:-1].split(\",\")\n",
    "v_index = content_list[0].replace(\"'\",\"\")\n",
    "value = content_list[1].replace(\"'\",\"\")\n",
    "print(v_index)\n",
    "\n",
    "2023-04-03 01:32:45,724 DEBUG checking goal for state: {'agent_at-a': 1, 'agent_at-b': 2, 'agent_at-c': 1, 'agent_at-d': 1, 'shared-a': 1, 'shared-b': 0, 'shared-c': 0, 'shared-d': 0, 'secret-a': 'f', 'secret-b': 't', 'secret-c': 't', 'secret-d': 't'} with path: [({'agent_at-a': 1, 'agent_at-b': 1, 'agent_at-c': 1, 'agent_at-d': 1, 'shared-a': 0, 'shared-b': 0, 'shared-c': 0, 'shared-d': 0, 'secret-a': 't', 'secret-b': 't', 'secret-c': 't', 'secret-d': 't'}, 'None'), ({'agent_at-a': 1, 'agent_at-b': 1, 'agent_at-c': 1, 'agent_at-d': 1, 'shared-a': 1, 'shared-b': 0, 'shared-c': 0, 'shared-d': 0, 'secret-a': 't', 'secret-b': 't', 'secret-c': 't', 'secret-d': 't'}, 'sharing-a-a'), ({'agent_at-a': 1, 'agent_at-b': 2, 'agent_at-c': 1, 'agent_at-d': 1, 'shared-a': 0, 'shared-b': 0, 'shared-c': 0, 'shared-d': 0, 'secret-a': 't', 'secret-b': 't', 'secret-c': 't', 'secret-d': 't'}, 'move_right-b'), ({'agent_at-a': 1, 'agent_at-b': 2, 'agent_at-c': 1, 'agent_at-d': 1, 'shared-a': 1, 'shared-b': 0, 'shared-c': 0, 'shared-d': 0, 'secret-a': 'f', 'secret-b': 't', 'secret-c': 't', 'secret-d': 't'}, 'sharing_lie-a-a')]\n",
    "2023-04-03 01:32:45,724 DEBUG plan is: ['sharing-a-a', 'move_right-b', 'sharing_lie-a-a']\n",
    "2023-04-03 01:32:45,724 DEBUG ontic_goal: {}\n",
    "2023-04-03 01:32:45,725 DEBUG epistemic_goal: [(\"b [b] ('secret-a','t')\", 1), (\"b [c] ('secret-a','f')\", 1)]\n",
    "2023-04-03 01:32:45,725 DEBUG generate successor for state: {'agent_at-a': 1, 'agent_at-b': 2, 'agent_at-c': 1, 'agent_at-d': 1, 'shared-a': 0, 'shared-b': 0, 'shared-c': 0, 'shared-d': 0, 'secret-a': 't', 'secret-b': 't', 'secret-c': 't', 'secret-d': 't'}\n",
    "2023-04-03 01:32:45,725 DEBUG generate successor with action: <Action: sharing_lie-b-a; parameters: [('-b', <E_TYPE.AGENT: 1>), ('-a', <E_TYPE.AGENT: 1>)]; precondition: {'ontic_p': [], 'epistemic_p': [(\"b [b] ('secret-a','t')\", 1)]}; effects: [('shared-a', '0'), ('shared-b', '0'), ('shared-c', '0'), ('shared-d', '0'), ('shared-a', 'agent_at-b'), ('secret-a', 'f')]>\n",
    "\n"
   ]
  },
  {
   "cell_type": "code",
   "execution_count": 6,
   "metadata": {},
   "outputs": [
    {
     "name": "stderr",
     "output_type": "stream",
     "text": [
      "test\n"
     ]
    }
   ],
   "source": [
    "import logging\n",
    "\n",
    "c_handler = logging.StreamHandler()\n",
    "c_handler.setLevel(logging.DEBUG)\n",
    "\n",
    "logger = logging.getLogger(\"test\")\n",
    "logger.handlers = [c_handler]\n",
    "logger.setLevel(logging.DEBUG)\n",
    "\n",
    "logger.info(\"test\")\n",
    "logger.debug(\"testing\")"
   ]
  }
 ],
 "metadata": {
  "kernelspec": {
   "display_name": "Python 3",
   "language": "python",
   "name": "python3"
  },
  "language_info": {
   "codemirror_mode": {
    "name": "ipython",
    "version": 3
   },
   "file_extension": ".py",
   "mimetype": "text/x-python",
   "name": "python",
   "nbconvert_exporter": "python",
   "pygments_lexer": "ipython3",
   "version": "3.8.10"
  },
  "orig_nbformat": 4,
  "vscode": {
   "interpreter": {
    "hash": "be20a142c3a3c1fec0f2a3fd728a43c6f1e3462a51ebeb0c006ecb4e4d65288e"
   }
  }
 },
 "nbformat": 4,
 "nbformat_minor": 2
}
