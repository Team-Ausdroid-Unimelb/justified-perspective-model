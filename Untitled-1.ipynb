{
 "cells": [
  {
   "cell_type": "code",
   "execution_count": null,
   "metadata": {},
   "outputs": [],
   "source": [
    "import epistemic_model\n",
    "\n",
    "em = epistemic_model.EpistemicModel(None)\n",
    "\n",
    "eg = [(\"b [b] b [c] ('secret-a','f')\", 1), (\"b [c] ('secret-a','t')\", 1), (\"b [b] ('secret-a','t')\", 1), (\"b [d] b [c] ('secret-a','t')\", 1)]\n",
    "\n",
    "\n",
    "em.epistemicGoalsHandler(eg,'',[])\n"
   ]
  },
  {
   "cell_type": "code",
   "execution_count": 6,
   "metadata": {},
   "outputs": [
    {
     "name": "stdout",
     "output_type": "stream",
     "text": [
      "[\"'secret-a'\", \"'t'\"]\n",
      "secret-a\n"
     ]
    }
   ],
   "source": [
    "test = \"('secret-a','t')\"\n",
    "\n",
    "print(test[1:-1].split(\",\"))\n",
    "\n",
    "content_list = test[1:-1].split(\",\")\n",
    "v_index = content_list[0].replace(\"'\",\"\")\n",
    "value = content_list[1].replace(\"'\",\"\")\n",
    "print(v_index)\n",
    "\n",
    "2023-04-03 01:32:45,724 DEBUG checking goal for state: {'agent_at-a': 1, 'agent_at-b': 2, 'agent_at-c': 1, 'agent_at-d': 1, 'shared-a': 1, 'shared-b': 0, 'shared-c': 0, 'shared-d': 0, 'secret-a': 'f', 'secret-b': 't', 'secret-c': 't', 'secret-d': 't'} with path: [({'agent_at-a': 1, 'agent_at-b': 1, 'agent_at-c': 1, 'agent_at-d': 1, 'shared-a': 0, 'shared-b': 0, 'shared-c': 0, 'shared-d': 0, 'secret-a': 't', 'secret-b': 't', 'secret-c': 't', 'secret-d': 't'}, 'None'), ({'agent_at-a': 1, 'agent_at-b': 1, 'agent_at-c': 1, 'agent_at-d': 1, 'shared-a': 1, 'shared-b': 0, 'shared-c': 0, 'shared-d': 0, 'secret-a': 't', 'secret-b': 't', 'secret-c': 't', 'secret-d': 't'}, 'sharing-a-a'), ({'agent_at-a': 1, 'agent_at-b': 2, 'agent_at-c': 1, 'agent_at-d': 1, 'shared-a': 0, 'shared-b': 0, 'shared-c': 0, 'shared-d': 0, 'secret-a': 't', 'secret-b': 't', 'secret-c': 't', 'secret-d': 't'}, 'move_right-b'), ({'agent_at-a': 1, 'agent_at-b': 2, 'agent_at-c': 1, 'agent_at-d': 1, 'shared-a': 1, 'shared-b': 0, 'shared-c': 0, 'shared-d': 0, 'secret-a': 'f', 'secret-b': 't', 'secret-c': 't', 'secret-d': 't'}, 'sharing_lie-a-a')]\n",
    "2023-04-03 01:32:45,724 DEBUG plan is: ['sharing-a-a', 'move_right-b', 'sharing_lie-a-a']\n",
    "2023-04-03 01:32:45,724 DEBUG ontic_goal: {}\n",
    "2023-04-03 01:32:45,725 DEBUG epistemic_goal: [(\"b [b] ('secret-a','t')\", 1), (\"b [c] ('secret-a','f')\", 1)]\n",
    "2023-04-03 01:32:45,725 DEBUG generate successor for state: {'agent_at-a': 1, 'agent_at-b': 2, 'agent_at-c': 1, 'agent_at-d': 1, 'shared-a': 0, 'shared-b': 0, 'shared-c': 0, 'shared-d': 0, 'secret-a': 't', 'secret-b': 't', 'secret-c': 't', 'secret-d': 't'}\n",
    "2023-04-03 01:32:45,725 DEBUG generate successor with action: <Action: sharing_lie-b-a; parameters: [('-b', <E_TYPE.AGENT: 1>), ('-a', <E_TYPE.AGENT: 1>)]; precondition: {'ontic_p': [], 'epistemic_p': [(\"b [b] ('secret-a','t')\", 1)]}; effects: [('shared-a', '0'), ('shared-b', '0'), ('shared-c', '0'), ('shared-d', '0'), ('shared-a', 'agent_at-b'), ('secret-a', 'f')]>\n",
    "\n"
   ]
  },
  {
   "cell_type": "code",
   "execution_count": 6,
   "metadata": {},
   "outputs": [
    {
     "name": "stderr",
     "output_type": "stream",
     "text": [
      "test\n"
     ]
    }
   ],
   "source": [
    "import logging\n",
    "\n",
    "c_handler = logging.StreamHandler()\n",
    "c_handler.setLevel(logging.DEBUG)\n",
    "\n",
    "logger = logging.getLogger(\"test\")\n",
    "logger.handlers = [c_handler]\n",
    "logger.setLevel(logging.DEBUG)\n",
    "\n",
    "logger.info(\"test\")\n",
    "logger.debug(\"testing\")"
   ]
  },
  {
   "cell_type": "code",
   "execution_count": 2,
   "metadata": {},
   "outputs": [],
   "source": [
    "import os"
   ]
  },
  {
   "cell_type": "markdown",
   "metadata": {},
   "source": [
    "This part is for grapevine\n",
    " "
   ]
  },
  {
   "cell_type": "code",
   "execution_count": null,
   "metadata": {},
   "outputs": [],
   "source": [
    "dir_name = os.path.join(\"amass_result\",\"grapevine\")\n",
    "goal_list = [\n",
    "    \"$\\cb_{\\{a,b,c,d\\}} act_a = t$\",\n",
    "    \"$\\eb_{\\{a,b,c,d\\}} act_a = t \\land \\cb_{\\{a,b,c,d\\}} act_a = t \\rightarrow \\unknown$\",\n",
    "    \"$\\eb_{\\{a,b,c,d\\}} \\eb_{\\{a,b,c,d\\}} act_a = t \\land \\cb_{\\{a,b,c,d\\}} act_a = t \\rightarrow \\unknown$\",\n",
    "    \"$B_b \\cb_{\\{a,b,c,d\\}} act_a = f \\land \\cb_{\\{a,c,d\\}} act_a = t$\",\n",
    "    \"$\\cb_{\\{b,c\\}} \\cb_{\\{a,b,c,d\\}} act_a = f \\land \\cb_{\\{a,d\\}} act_a = t$\",\n",
    "    \"$\\db_{\\{a,b,c,d\\}} \\eb_{\\{a,b,c,d\\}} act_a = t \\land \\cb_{\\{a,b,c,d\\}} act_a = t \\rightarrow \\unknown$\",\n",
    "    \"$\\db_{\\{a,b,c,d\\}} \\eb_{\\{a,b,c,d\\}} act_a = t \\land B_a \\eb_{\\{a,b,c,d\\}} act_a = t \\rightarrow \\unknown$\",\n",
    "    ]\n",
    "\n"
   ]
  },
  {
   "cell_type": "markdown",
   "metadata": {},
   "source": [
    "The Following part is for number:"
   ]
  },
  {
   "cell_type": "code",
   "execution_count": 3,
   "metadata": {},
   "outputs": [],
   "source": [
    "dir_name = os.path.join(\"amass_result\",\"num\")\n",
    "goal_list = [\n",
    "    \"$\\eb_{\\{a,b\\}} n<2$\",\n",
    "    \"$\\db_{\\{a,b\\}} n<2$\",\n",
    "    \"$\\cb_{\\{a,b\\}} n<2$\",\n",
    "    \"$\\eb_{\\{a,b\\}} n<2 \\land \\neg \\cb_{\\{a,b\\}} n<2 $\",\n",
    "    \"$\\eb_{\\{a,b\\}} \\eb_{\\{a,b\\}} n<2 \\land \\neg \\cb_{\\{a,b\\}} n<2 $\",\n",
    "    \"$\\neg \\eb_{\\{a,b\\}} n=1 \\land \\neg \\eb_{\\{a,b\\}} n=2 \\land \\cb_{\\{a,b\\}} n<2$\",\n",
    "    \"$B_a \\cb_{\\{a,b\\}} n=2 \\land B_b \\cb_{\\{a,b\\}} n=1$\"]\n",
    "\n",
    "\n",
    "\n",
    "\n"
   ]
  },
  {
   "cell_type": "code",
   "execution_count": 10,
   "metadata": {},
   "outputs": [
    {
     "name": "stdout",
     "output_type": "stream",
     "text": [
      "7\n",
      "0\n",
      "7\n",
      "1\n",
      "7\n",
      "2\n",
      "7\n",
      "3\n",
      "7\n",
      "4\n",
      "7\n",
      "5\n",
      "7\n",
      "6\n",
      "[{'solvable': True, 'plan': '$\\\\eb_{\\\\{a,b\\\\}} n<2$ \\\\\\\\ % -,single_peek-a,subtraction1-c,return-a,single_peek-b', 'pruned': 27, 'pruned_by_unknown': 0, 'pruned_by_visited': 27, 'goal_checked': 140, 'expanded': 39, 'generated': 140, 'epistemic_calls': 207, 'epistemic_call_time': 0.012, 'common_calls': 0, 'common_total': 0, 'common_max': 0, 'common_average': 0, 'domain_name': 'group_number', 'problem': 'group_num_01', 'search': 'fbfsdc', 'init_time': 0.184, 'search_time': 0.035, 'plan_length': 4}, {'solvable': True, 'plan': '$\\\\db_{\\\\{a,b\\\\}} n<2$ \\\\\\\\ % -,single_peek-a,subtraction1-c', 'pruned': 0, 'pruned_by_unknown': 0, 'pruned_by_visited': 0, 'goal_checked': 25, 'expanded': 7, 'generated': 25, 'epistemic_calls': 33, 'epistemic_call_time': 0.001, 'common_calls': 0, 'common_total': 0, 'common_max': 0, 'common_average': 0, 'domain_name': 'group_number', 'problem': 'group_num_02', 'search': 'fbfsdc', 'init_time': 0.003, 'search_time': 0.005, 'plan_length': 2}, {'solvable': True, 'plan': '$\\\\cb_{\\\\{a,b\\\\}} n<2$ \\\\\\\\ % -,single_peek-a,subtraction1-c,return-a,single_peek-b', 'pruned': 27, 'pruned_by_unknown': 0, 'pruned_by_visited': 27, 'goal_checked': 140, 'expanded': 39, 'generated': 140, 'epistemic_calls': 207, 'epistemic_call_time': 0.073, 'common_calls': 141, 'common_total': 310, 'common_max': 4, 'common_average': 2.2, 'domain_name': 'group_number', 'problem': 'group_num_03', 'search': 'fbfsdc', 'init_time': 0.003, 'search_time': 0.093, 'plan_length': 4}, {'solvable': True, 'plan': '$\\\\eb_{\\\\{a,b\\\\}} n<2 \\\\land \\neg \\\\cb_{\\\\{a,b\\\\}} n<2 $ \\\\\\\\ % -,single_peek-a,return-a,single_peek-b,subtraction1-c,return-b,single_peek-a', 'pruned': 112, 'pruned_by_unknown': 0, 'pruned_by_visited': 112, 'goal_checked': 435, 'expanded': 120, 'generated': 435, 'epistemic_calls': 668, 'epistemic_call_time': 0.358, 'common_calls': 577, 'common_total': 1383, 'common_max': 4, 'common_average': 2.4, 'domain_name': 'group_number', 'problem': 'group_num_04', 'search': 'fbfsdc', 'init_time': 0.002, 'search_time': 0.423, 'plan_length': 6}, {'solvable': True, 'plan': '$\\\\eb_{\\\\{a,b\\\\}} \\\\eb_{\\\\{a,b\\\\}} n<2 \\\\land \\neg \\\\cb_{\\\\{a,b\\\\}} n<2 $ \\\\\\\\ % -,single_peek-a,return-a,single_peek-b,subtraction1-c,return-b,single_peek-a,return-a,single_peek-b', 'pruned': 420, 'pruned_by_unknown': 0, 'pruned_by_visited': 420, 'goal_checked': 1273, 'expanded': 347, 'generated': 1273, 'epistemic_calls': 2041, 'epistemic_call_time': 1.942, 'common_calls': 1851, 'common_total': 4843, 'common_max': 5, 'common_average': 2.6, 'domain_name': 'group_number', 'problem': 'group_num_05', 'search': 'fbfsdc', 'init_time': 0.002, 'search_time': 2.17, 'plan_length': 8}, {'solvable': True, 'plan': '$\\neg \\\\eb_{\\\\{a,b\\\\}} n=1 \\\\land \\neg \\\\eb_{\\\\{a,b\\\\}} n=2 \\\\land \\\\cb_{\\\\{a,b\\\\}} n<2$ \\\\\\\\ % -,single_peek-a,return-a,single_peek-b,subtraction1-c', 'pruned': 18, 'pruned_by_unknown': 0, 'pruned_by_visited': 18, 'goal_checked': 111, 'expanded': 31, 'generated': 111, 'epistemic_calls': 161, 'epistemic_call_time': 0.05, 'common_calls': 1963, 'common_total': 5082, 'common_max': 5, 'common_average': 2.6, 'domain_name': 'group_number', 'problem': 'group_num_06', 'search': 'fbfsdc', 'init_time': 0.003, 'search_time': 0.067, 'plan_length': 4}, {'solvable': True, 'plan': '$B_a \\\\cb_{\\\\{a,b\\\\}} n=2 \\\\land B_b \\\\cb_{\\\\{a,b\\\\}} n=1$ \\\\\\\\ % -,single_peek-b,return-b,subtraction1-c,single_peek-a', 'pruned': 29, 'pruned_by_unknown': 0, 'pruned_by_visited': 29, 'goal_checked': 177, 'expanded': 50, 'generated': 177, 'epistemic_calls': 257, 'epistemic_call_time': 0.083, 'common_calls': 2319, 'common_total': 5669, 'common_max': 5, 'common_average': 2.4, 'domain_name': 'group_number', 'problem': 'group_num_07', 'search': 'fbfsdc', 'init_time': 0.003, 'search_time': 0.111, 'plan_length': 4}]\n",
      "['solvable' 'plan' 'pruned' 'pruned_by_unknown' 'pruned_by_visited'\n",
      " 'goal_checked' 'expanded' 'generated' 'epistemic_calls'\n",
      " 'epistemic_call_time' 'common_calls' 'common_total' 'common_max'\n",
      " 'common_average' 'domain_name' 'problem' 'search' 'init_time'\n",
      " 'search_time' 'plan_length']\n",
      "   expanded  generated  common_max  common_average  epistemic_calls  \\\n",
      "0        39        140           0             0.0              207   \n",
      "1         7         25           0             0.0               33   \n",
      "2        39        140           4             2.2              207   \n",
      "3       120        435           4             2.4              668   \n",
      "4       347       1273           5             2.6             2041   \n",
      "5        31        111           5             2.6              161   \n",
      "6        50        177           5             2.4              257   \n",
      "\n",
      "   epistemic_call_time  search_time  plan_length  \\\n",
      "0                0.012        0.035            4   \n",
      "1                0.001        0.005            2   \n",
      "2                0.073        0.093            4   \n",
      "3                0.358        0.423            6   \n",
      "4                1.942        2.170            8   \n",
      "5                0.050        0.067            4   \n",
      "6                0.083        0.111            4   \n",
      "\n",
      "                                                plan  \n",
      "0  $\\eb_{\\{a,b\\}} n<2$ \\\\ % -,single_peek-a,subtr...  \n",
      "1  $\\db_{\\{a,b\\}} n<2$ \\\\ % -,single_peek-a,subtr...  \n",
      "2  $\\cb_{\\{a,b\\}} n<2$ \\\\ % -,single_peek-a,subtr...  \n",
      "3  $\\eb_{\\{a,b\\}} n<2 \\land \\neg \\cb_{\\{a,b\\}} n<...  \n",
      "4  $\\eb_{\\{a,b\\}} \\eb_{\\{a,b\\}} n<2 \\land \\neg \\c...  \n",
      "5  $\\neg \\eb_{\\{a,b\\}} n=1 \\land \\neg \\eb_{\\{a,b\\...  \n",
      "6  $B_a \\cb_{\\{a,b\\}} n=2 \\land B_b \\cb_{\\{a,b\\}}...  \n"
     ]
    }
   ],
   "source": [
    "\n",
    "import os\n",
    "import pandas\n",
    "import json\n",
    "from util import ActionList2DictKey\n",
    "\n",
    "\n",
    "plan_str_prefix_list= [ goal_str + \" \\\\\\\\ % \" for goal_str in goal_list]\n",
    "\n",
    "\n",
    "result_json = list()\n",
    "\n",
    "\n",
    "# dir_name = os.path.join(\"amass_result\",\"grapevine\")\n",
    "path_list= os.listdir(dir_name)\n",
    "index = 0\n",
    "for file_name in sorted(path_list):\n",
    "    if '.json' in file_name:\n",
    "        with open(os.path.join(dir_name,file_name),'r') as f:\n",
    "            json_item = json.load(f)\n",
    "            # print(json_item)\n",
    "            \n",
    "            for key,value in json_item.items():\n",
    "                if type(value) == float:\n",
    "                    if key == 'common_average':\n",
    "                        json_item[key] = round(value,1)\n",
    "                    else:\n",
    "                        json_item[key] = round(value,3)\n",
    "            \n",
    "            if \"plan\" in json_item.keys():\n",
    "                plan = json_item['plan']\n",
    "                json_item.update({\"plan_length\":len(plan)})\n",
    "                print(len(plan_str_prefix_list))\n",
    "                print(index)\n",
    "                plan_str = plan_str_prefix_list[index] + ActionList2DictKey(plan)\n",
    "                json_item.update({\"plan\":plan_str})\n",
    "                index+=1\n",
    "            # search_str = json_item[\"search\"] \n",
    "\n",
    "            result_json.append(json_item)\n",
    "        \n",
    "print(result_json)\n",
    "\n",
    "# excel_file_name = options.output_path+options.output_path.replace('\\\\','_').replace('/','_').replace('.','')+\".xlsx\"\n",
    "\n",
    "# writer = pd.ExcelWriter(excel_file_name, engine='xlsxwriter')\n",
    "\n",
    "\n",
    "\n",
    "df_json = pandas.DataFrame.from_dict(result_json)\n",
    "# print(df_json)\n",
    "# new_df=df_json.drop(columns=['solvable', 'domain_name','search','pruned','pruned_by_unknown','pruned_by_visited','problem','goal_checked'])\n",
    "cols = df_json.columns.values\n",
    "print(cols)\n",
    "cols = ['expanded' ,'generated','common_max','common_average' ,'epistemic_calls', 'epistemic_call_time', 'search_time', 'plan_length','plan']\n",
    "# cols = list(new_df.columns.values)[1:]+['plan']\n",
    "new_df = df_json[cols]\n",
    "print(new_df)\n",
    "\n",
    "latex_df = new_df.to_latex()\n",
    "# print(latex_df)\n",
    "\n",
    "with open(os.path.join(dir_name,\"table.latex\"),'w') as f:\n",
    "    f.write(latex_df)\n",
    "    \n"
   ]
  }
 ],
 "metadata": {
  "kernelspec": {
   "display_name": "Python 3",
   "language": "python",
   "name": "python3"
  },
  "language_info": {
   "codemirror_mode": {
    "name": "ipython",
    "version": 3
   },
   "file_extension": ".py",
   "mimetype": "text/x-python",
   "name": "python",
   "nbconvert_exporter": "python",
   "pygments_lexer": "ipython3",
   "version": "3.7.4"
  },
  "orig_nbformat": 4,
  "vscode": {
   "interpreter": {
    "hash": "be20a142c3a3c1fec0f2a3fd728a43c6f1e3462a51ebeb0c006ecb4e4d65288e"
   }
  }
 },
 "nbformat": 4,
 "nbformat_minor": 2
}
