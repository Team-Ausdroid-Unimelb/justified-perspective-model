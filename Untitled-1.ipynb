{
 "cells": [
  {
   "cell_type": "code",
   "execution_count": 5,
   "metadata": {},
   "outputs": [],
   "source": [
    "import os"
   ]
  },
  {
   "cell_type": "markdown",
   "metadata": {},
   "source": [
    "This part is for grapevine\n",
    " "
   ]
  },
  {
   "cell_type": "code",
   "execution_count": 30,
   "metadata": {},
   "outputs": [],
   "source": [
    "dir_name = os.path.join('aamas_result','grapevine')\n",
    "goal_list = [\n",
    "    \"$\\\\cb_{\\\\{a,b,c,d\\\\}} act_a = t$\",\n",
    "    \"$\\\\eb_{\\\\{a,b,c,d\\\\}} act_a = t \\\\land \\\\cb_{\\\\{a,b,c,d\\\\}} act_a = t \\\\rightarrow \\\\unknown$\",\n",
    "    \"$\\\\eb_{\\\\{a,b,c,d\\\\}} \\\\eb_{\\\\{a,b,c,d\\\\}} act_a = t \\\\land \\\\cb_{\\\\{a,b,c,d\\\\}} act_a = t \\\\rightarrow \\\\unknown$\",\n",
    "    \"$B_b \\\\cb_{\\\\{a,b,c,d\\\\}} act_a = f \\\\land \\\\cb_{\\\\{a,c,d\\\\}} act_a = t$\",\n",
    "    \"$\\\\cb_{\\\\{b,c\\\\}} \\\\cb_{\\\\{a,b,c,d\\\\}} act_a = f \\\\land \\\\cb_{\\\\{a,d\\\\}} act_a = t$\",\n",
    "    \"$\\\\db_{\\\\{a,b,c,d\\\\}} \\\\eb_{\\\\{a,b,c,d\\\\}} act_a = t \\\\land \\\\cb_{\\\\{a,b,c,d\\\\}} act_a = t \\\\rightarrow \\\\unknown$\",\n",
    "    \"$\\\\db_{\\\\{a,b,c,d\\\\}} \\\\eb_{\\\\{a,b,c,d\\\\}} act_a = t \\\\land B_a \\\\eb_{\\\\{a,b,c,d\\\\}} act_a = t \\\\rightarrow \\\\unknown$\",\n",
    "    ]\n",
    "\n"
   ]
  },
  {
   "cell_type": "markdown",
   "metadata": {},
   "source": [
    "The Following part is for number:"
   ]
  },
  {
   "cell_type": "code",
   "execution_count": 25,
   "metadata": {},
   "outputs": [],
   "source": [
    "dir_name = os.path.join(\"aamas_result\",\"num\")\n",
    "goal_list = [\n",
    "    \"$\\\\eb_{\\\\{a,b\\\\}} n<2$\",\n",
    "    \"$\\\\db_{\\\\{a,b\\\\}} n<2$\",\n",
    "    \"$\\\\cb_{\\\\{a,b\\\\}} n<2$\",\n",
    "    \"$\\\\eb_{\\\\{a,b\\\\}} n<2 \\\\land \\\\neg \\\\cb_{\\\\{a,b\\\\}} n<2 $\",\n",
    "    \"$\\\\eb_{\\\\{a,b\\\\}} \\\\eb_{\\\\{a,b\\\\}} n<2 \\\\land \\\\neg \\\\cb_{\\\\{a,b\\\\}} n<2 $\",\n",
    "    \"$\\\\neg \\\\eb_{\\\\{a,b\\\\}} n=1 \\\\land \\\\neg \\\\eb_{\\\\{a,b\\\\}} n=2 \\\\land \\\\cb_{\\\\{a,b\\\\}} n<2$\",\n",
    "    \"$B_a \\\\cb_{\\\\{a,b\\\\}} n=2 \\\\land B_b \\\\cb_{\\\\{a,b\\\\}} n=1$\"]\n",
    "\n",
    "\n",
    "\n",
    "\n"
   ]
  },
  {
   "cell_type": "code",
   "execution_count": 31,
   "metadata": {},
   "outputs": [
    {
     "name": "stdout",
     "output_type": "stream",
     "text": [
      "7\n",
      "0\n",
      "7\n",
      "1\n",
      "7\n",
      "2\n",
      "7\n",
      "3\n",
      "7\n",
      "4\n",
      "7\n",
      "5\n",
      "7\n",
      "6\n",
      "[{'solvable': True, 'plan': '$\\\\cb_{\\\\{a,b,c,d\\\\}} act_a = t$ \\\\\\\\ % -,sharing_truth-a-a', 'pruned': 0, 'pruned_by_unknown': 0, 'pruned_by_visited': 0, 'goal_checked': 35, 'expanded': 5, 'generated': 35, 'epistemic_calls': 41, 'epistemic_call_time': 0.148, 'common_calls': 36, 'common_total': 109, 'common_max': 4, 'common_average': 3.0, 'domain_name': 'group_grapevine', 'problem': 'group_grapevine_01', 'search': 'fbfsdc', 'init_time': 0.142, 'search_time': 0.163, 'plan_length': 1}, {'solvable': True, 'plan': '$\\\\eb_{\\\\{a,b,c,d\\\\}} act_a = t \\\\land \\\\cb_{\\\\{a,b,c,d\\\\}} act_a = t \\\\rightarrow \\\\unknown$ \\\\\\\\ % -,move_right-b,sharing_truth-a-a,move_right-a,sharing_truth-a-a', 'pruned': 174, 'pruned_by_unknown': 82, 'pruned_by_visited': 92, 'goal_checked': 532, 'expanded': 66, 'generated': 450, 'epistemic_calls': 691, 'epistemic_call_time': 5.195, 'common_calls': 569, 'common_total': 1812, 'common_max': 4, 'common_average': 3.2, 'domain_name': 'group_grapevine', 'problem': 'group_grapevine_02', 'search': 'fbfsdc', 'init_time': 0.002, 'search_time': 5.566, 'plan_length': 4}, {'solvable': True, 'plan': '$\\\\eb_{\\\\{a,b,c,d\\\\}} \\\\eb_{\\\\{a,b,c,d\\\\}} act_a = t \\\\land \\\\cb_{\\\\{a,b,c,d\\\\}} act_a = t \\\\rightarrow \\\\unknown$ \\\\\\\\ % -,move_right-b,sharing_truth-a-a,move_right-a,sharing_truth-a-a,move_left-b,sharing_truth-b-a', 'pruned': 1213, 'pruned_by_unknown': 296, 'pruned_by_visited': 917, 'goal_checked': 2124, 'expanded': 240, 'generated': 1828, 'epistemic_calls': 3282, 'epistemic_call_time': 46.973, 'common_calls': 2694, 'common_total': 9240, 'common_max': 5, 'common_average': 3.4, 'domain_name': 'group_grapevine', 'problem': 'group_grapevine_03', 'search': 'fbfsdc', 'init_time': 0.002, 'search_time': 49.96, 'plan_length': 6}, {'solvable': True, 'plan': '$B_b \\\\cb_{\\\\{a,b,c,d\\\\}} act_a = f \\\\land \\\\cb_{\\\\{a,c,d\\\\}} act_a = t$ \\\\\\\\ % -,lying-a,move_right-b,sharing-a', 'pruned': 121, 'pruned_by_unknown': 0, 'pruned_by_visited': 121, 'goal_checked': 913, 'expanded': 103, 'generated': 913, 'epistemic_calls': 1138, 'epistemic_call_time': 7.786, 'common_calls': 4522, 'common_total': 14756, 'common_max': 5, 'common_average': 3.3, 'domain_name': 'group_grapevine', 'problem': 'group_grapevine_04', 'search': 'fbfsdc', 'init_time': 0.01, 'search_time': 8.38, 'plan_length': 3}, {'solvable': True, 'plan': '$\\\\cb_{\\\\{b,c\\\\}} \\\\cb_{\\\\{a,b,c,d\\\\}} act_a = f \\\\land \\\\cb_{\\\\{a,d\\\\}} act_a = t$ \\\\\\\\ % -,lying-a,move_right-a,move_right-d,sharing-a', 'pruned': 504, 'pruned_by_unknown': 0, 'pruned_by_visited': 504, 'goal_checked': 2959, 'expanded': 328, 'generated': 2959, 'epistemic_calls': 3792, 'epistemic_call_time': 56.34, 'common_calls': 19322, 'common_total': 54190, 'common_max': 5, 'common_average': 2.8, 'domain_name': 'group_grapevine', 'problem': 'group_grapevine_05', 'search': 'fbfsdc', 'init_time': 0.009, 'search_time': 58.457, 'plan_length': 4}, {'solvable': True, 'plan': '$\\\\db_{\\\\{a,b,c,d\\\\}} \\\\eb_{\\\\{a,b,c,d\\\\}} act_a = t \\\\land \\\\cb_{\\\\{a,b,c,d\\\\}} act_a = t \\\\rightarrow \\\\unknown$ \\\\\\\\ % -,move_right-b,sharing_truth-a-a,move_right-a,sharing_truth-a-a', 'pruned': 174, 'pruned_by_unknown': 82, 'pruned_by_visited': 92, 'goal_checked': 532, 'expanded': 66, 'generated': 450, 'epistemic_calls': 691, 'epistemic_call_time': 6.501, 'common_calls': 19855, 'common_total': 55893, 'common_max': 5, 'common_average': 2.8, 'domain_name': 'group_grapevine', 'problem': 'group_grapevine_06', 'search': 'fbfsdc', 'init_time': 0.012, 'search_time': 6.904, 'plan_length': 4}, {'solvable': True, 'plan': '$\\\\db_{\\\\{a,b,c,d\\\\}} \\\\eb_{\\\\{a,b,c,d\\\\}} act_a = t \\\\land B_a \\\\eb_{\\\\{a,b,c,d\\\\}} act_a = t \\\\rightarrow \\\\unknown$ \\\\\\\\ % -,move_right-b,sharing_truth-a-a,move_right-c,sharing_truth-c-a', 'pruned': 208, 'pruned_by_unknown': 113, 'pruned_by_visited': 95, 'goal_checked': 568, 'expanded': 70, 'generated': 455, 'epistemic_calls': 734, 'epistemic_call_time': 1.827, 'common_calls': 19855, 'common_total': 55893, 'common_max': 5, 'common_average': 2.8, 'domain_name': 'group_grapevine', 'problem': 'group_grapevine_07', 'search': 'fbfsdc', 'init_time': 0.01, 'search_time': 2.27, 'plan_length': 4}]\n",
      "['solvable' 'plan' 'pruned' 'pruned_by_unknown' 'pruned_by_visited'\n",
      " 'goal_checked' 'expanded' 'generated' 'epistemic_calls'\n",
      " 'epistemic_call_time' 'common_calls' 'common_total' 'common_max'\n",
      " 'common_average' 'domain_name' 'problem' 'search' 'init_time'\n",
      " 'search_time' 'plan_length']\n",
      "   expanded  generated  common_max  common_average  epistemic_calls  \\\n",
      "0         5         35           4             3.0               41   \n",
      "1        66        450           4             3.2              691   \n",
      "2       240       1828           5             3.4             3282   \n",
      "3       103        913           5             3.3             1138   \n",
      "4       328       2959           5             2.8             3792   \n",
      "5        66        450           5             2.8              691   \n",
      "6        70        455           5             2.8              734   \n",
      "\n",
      "   epistemic_call_time  search_time  plan_length  \\\n",
      "0                0.148        0.163            1   \n",
      "1                5.195        5.566            4   \n",
      "2               46.973       49.960            6   \n",
      "3                7.786        8.380            3   \n",
      "4               56.340       58.457            4   \n",
      "5                6.501        6.904            4   \n",
      "6                1.827        2.270            4   \n",
      "\n",
      "                                                                                                                                                                                                        plan  \n",
      "0                                                                                                                                                     $\\cb_{\\{a,b,c,d\\}} act_a = t$ \\\\ % -,sharing_truth-a-a  \n",
      "1                                                  $\\eb_{\\{a,b,c,d\\}} act_a = t \\land \\cb_{\\{a,b,c,d\\}} act_a = t \\rightarrow \\unknown$ \\\\ % -,move_right-b,sharing_truth-a-a,move_right-a,sharing_truth-a-a  \n",
      "2  $\\eb_{\\{a,b,c,d\\}} \\eb_{\\{a,b,c,d\\}} act_a = t \\land \\cb_{\\{a,b,c,d\\}} act_a = t \\rightarrow \\unknown$ \\\\ % -,move_right-b,sharing_truth-a-a,move_right-a,sharing_truth-a-a,move_left-b,sharing_truth-b-a  \n",
      "3                                                                                                    $B_b \\cb_{\\{a,b,c,d\\}} act_a = f \\land \\cb_{\\{a,c,d\\}} act_a = t$ \\\\ % -,lying-a,move_right-b,sharing-a  \n",
      "4                                                                               $\\cb_{\\{b,c\\}} \\cb_{\\{a,b,c,d\\}} act_a = f \\land \\cb_{\\{a,d\\}} act_a = t$ \\\\ % -,lying-a,move_right-a,move_right-d,sharing-a  \n",
      "5                                $\\db_{\\{a,b,c,d\\}} \\eb_{\\{a,b,c,d\\}} act_a = t \\land \\cb_{\\{a,b,c,d\\}} act_a = t \\rightarrow \\unknown$ \\\\ % -,move_right-b,sharing_truth-a-a,move_right-a,sharing_truth-a-a  \n",
      "6                            $\\db_{\\{a,b,c,d\\}} \\eb_{\\{a,b,c,d\\}} act_a = t \\land B_a \\eb_{\\{a,b,c,d\\}} act_a = t \\rightarrow \\unknown$ \\\\ % -,move_right-b,sharing_truth-a-a,move_right-c,sharing_truth-c-a  \n"
     ]
    }
   ],
   "source": [
    "\n",
    "import os\n",
    "import pandas\n",
    "import json\n",
    "from util import ActionList2DictKey\n",
    "\n",
    "\n",
    "plan_str_prefix_list= [ goal_str + \" \\\\\\\\ % \" for goal_str in goal_list]\n",
    "\n",
    "\n",
    "result_json = list()\n",
    "\n",
    "\n",
    "# dir_name = os.path.join(\"amass_result\",\"grapevine\")\n",
    "path_list= os.listdir(dir_name)\n",
    "index = 0\n",
    "for file_name in sorted(path_list):\n",
    "    if '.json' in file_name:\n",
    "        with open(os.path.join(dir_name,file_name),'r') as f:\n",
    "            json_item = json.load(f)\n",
    "            # print(json_item)\n",
    "            \n",
    "            for key,value in json_item.items():\n",
    "                if type(value) == float:\n",
    "                    if key == 'common_average':\n",
    "                        json_item[key] = round(value,1)\n",
    "                    else:\n",
    "                        json_item[key] = round(value,3)\n",
    "            \n",
    "            if \"plan\" in json_item.keys():\n",
    "                plan = json_item['plan']\n",
    "                json_item.update({\"plan_length\":len(plan)})\n",
    "                print(len(plan_str_prefix_list))\n",
    "                print(index)\n",
    "                plan_str = plan_str_prefix_list[index] + ActionList2DictKey(plan)\n",
    "                json_item.update({\"plan\":plan_str})\n",
    "                index+=1\n",
    "            # search_str = json_item[\"search\"] \n",
    "\n",
    "            result_json.append(json_item)\n",
    "        \n",
    "print(result_json)\n",
    "\n",
    "\n",
    "\n",
    "\n",
    "\n",
    "df_json = pandas.DataFrame.from_dict(result_json)\n",
    "# print(df_json)\n",
    "# new_df=df_json.drop(columns=['solvable', 'domain_name','search','pruned','pruned_by_unknown','pruned_by_visited','problem','goal_checked'])\n",
    "cols = df_json.columns.values\n",
    "print(cols)\n",
    "cols = ['expanded' ,'generated','common_max','common_average' ,'epistemic_calls', 'epistemic_call_time', 'search_time', 'plan_length','plan']\n",
    "# cols = list(new_df.columns.values)[1:]+['plan']\n",
    "new_df = df_json[cols]\n",
    "pandas.set_option('display.max_colwidth', 1000)\n",
    "print(new_df)\n",
    "\n",
    "latex_df = new_df.to_latex(escape=False)\n",
    "# print(latex_df)\n",
    "\n",
    "with open(os.path.join(dir_name,\"table.latex\"),'w') as f:\n",
    "    f.write(latex_df)\n",
    "    \n"
   ]
  }
 ],
 "metadata": {
  "kernelspec": {
   "display_name": "Python 3",
   "language": "python",
   "name": "python3"
  },
  "language_info": {
   "codemirror_mode": {
    "name": "ipython",
    "version": 3
   },
   "file_extension": ".py",
   "mimetype": "text/x-python",
   "name": "python",
   "nbconvert_exporter": "python",
   "pygments_lexer": "ipython3",
   "version": "3.8.10"
  },
  "orig_nbformat": 4,
  "vscode": {
   "interpreter": {
    "hash": "be20a142c3a3c1fec0f2a3fd728a43c6f1e3462a51ebeb0c006ecb4e4d65288e"
   }
  }
 },
 "nbformat": 4,
 "nbformat_minor": 2
}
