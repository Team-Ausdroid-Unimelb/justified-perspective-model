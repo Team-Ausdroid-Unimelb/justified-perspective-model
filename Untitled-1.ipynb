{
 "cells": [
  {
   "cell_type": "code",
   "execution_count": null,
   "metadata": {},
   "outputs": [],
   "source": [
    "import epistemic_model\n",
    "\n",
    "em = epistemic_model.EpistemicModel(None)\n",
    "\n",
    "eg = [(\"b [b] b [c] ('secret-a','f')\", 1), (\"b [c] ('secret-a','t')\", 1), (\"b [b] ('secret-a','t')\", 1), (\"b [d] b [c] ('secret-a','t')\", 1)]\n",
    "\n",
    "\n",
    "em.epistemicGoalsHandler(eg,'',[])\n"
   ]
  },
  {
   "cell_type": "code",
   "execution_count": 6,
   "metadata": {},
   "outputs": [
    {
     "name": "stdout",
     "output_type": "stream",
     "text": [
      "[\"'secret-a'\", \"'t'\"]\n",
      "secret-a\n"
     ]
    }
   ],
   "source": [
    "test = \"('secret-a','t')\"\n",
    "\n",
    "print(test[1:-1].split(\",\"))\n",
    "\n",
    "content_list = test[1:-1].split(\",\")\n",
    "v_index = content_list[0].replace(\"'\",\"\")\n",
    "value = content_list[1].replace(\"'\",\"\")\n",
    "print(v_index)\n",
    "\n",
    "2023-04-03 01:32:45,724 DEBUG checking goal for state: {'agent_at-a': 1, 'agent_at-b': 2, 'agent_at-c': 1, 'agent_at-d': 1, 'shared-a': 1, 'shared-b': 0, 'shared-c': 0, 'shared-d': 0, 'secret-a': 'f', 'secret-b': 't', 'secret-c': 't', 'secret-d': 't'} with path: [({'agent_at-a': 1, 'agent_at-b': 1, 'agent_at-c': 1, 'agent_at-d': 1, 'shared-a': 0, 'shared-b': 0, 'shared-c': 0, 'shared-d': 0, 'secret-a': 't', 'secret-b': 't', 'secret-c': 't', 'secret-d': 't'}, 'None'), ({'agent_at-a': 1, 'agent_at-b': 1, 'agent_at-c': 1, 'agent_at-d': 1, 'shared-a': 1, 'shared-b': 0, 'shared-c': 0, 'shared-d': 0, 'secret-a': 't', 'secret-b': 't', 'secret-c': 't', 'secret-d': 't'}, 'sharing-a-a'), ({'agent_at-a': 1, 'agent_at-b': 2, 'agent_at-c': 1, 'agent_at-d': 1, 'shared-a': 0, 'shared-b': 0, 'shared-c': 0, 'shared-d': 0, 'secret-a': 't', 'secret-b': 't', 'secret-c': 't', 'secret-d': 't'}, 'move_right-b'), ({'agent_at-a': 1, 'agent_at-b': 2, 'agent_at-c': 1, 'agent_at-d': 1, 'shared-a': 1, 'shared-b': 0, 'shared-c': 0, 'shared-d': 0, 'secret-a': 'f', 'secret-b': 't', 'secret-c': 't', 'secret-d': 't'}, 'sharing_lie-a-a')]\n",
    "2023-04-03 01:32:45,724 DEBUG plan is: ['sharing-a-a', 'move_right-b', 'sharing_lie-a-a']\n",
    "2023-04-03 01:32:45,724 DEBUG ontic_goal: {}\n",
    "2023-04-03 01:32:45,725 DEBUG epistemic_goal: [(\"b [b] ('secret-a','t')\", 1), (\"b [c] ('secret-a','f')\", 1)]\n",
    "2023-04-03 01:32:45,725 DEBUG generate successor for state: {'agent_at-a': 1, 'agent_at-b': 2, 'agent_at-c': 1, 'agent_at-d': 1, 'shared-a': 0, 'shared-b': 0, 'shared-c': 0, 'shared-d': 0, 'secret-a': 't', 'secret-b': 't', 'secret-c': 't', 'secret-d': 't'}\n",
    "2023-04-03 01:32:45,725 DEBUG generate successor with action: <Action: sharing_lie-b-a; parameters: [('-b', <E_TYPE.AGENT: 1>), ('-a', <E_TYPE.AGENT: 1>)]; precondition: {'ontic_p': [], 'epistemic_p': [(\"b [b] ('secret-a','t')\", 1)]}; effects: [('shared-a', '0'), ('shared-b', '0'), ('shared-c', '0'), ('shared-d', '0'), ('shared-a', 'agent_at-b'), ('secret-a', 'f')]>\n",
    "\n"
   ]
  },
  {
   "cell_type": "code",
   "execution_count": 6,
   "metadata": {},
   "outputs": [
    {
     "name": "stderr",
     "output_type": "stream",
     "text": [
      "test\n"
     ]
    }
   ],
   "source": [
    "import logging\n",
    "\n",
    "c_handler = logging.StreamHandler()\n",
    "c_handler.setLevel(logging.DEBUG)\n",
    "\n",
    "logger = logging.getLogger(\"test\")\n",
    "logger.handlers = [c_handler]\n",
    "logger.setLevel(logging.DEBUG)\n",
    "\n",
    "logger.info(\"test\")\n",
    "logger.debug(\"testing\")"
   ]
  },
  {
   "cell_type": "markdown",
   "metadata": {},
   "source": [
    "This part is for grapevine\n",
    " "
   ]
  },
  {
   "cell_type": "code",
   "execution_count": null,
   "metadata": {},
   "outputs": [],
   "source": [
    "dir_name = os.path.join(\"amass_result\",\"grapevine\")\n",
    "goal_list = [\n",
    "    \"$\\cb_{\\{a,b,c,d\\}} act_a = t$\",\n",
    "    \"$\\eb_{\\{a,b,c,d\\}} act_a = t \\land \\cb_{\\{a,b,c,d\\}} act_a = t \\rightarrow \\unknown$\",\n",
    "    \"$\\eb_{\\{a,b,c,d\\}} \\eb_{\\{a,b,c,d\\}} act_a = t \\land \\cb_{\\{a,b,c,d\\}} act_a = t \\rightarrow \\unknown$\",\n",
    "    \"$B_b \\cb_{\\{a,b,c,d\\}} act_a = f \\land \\cb_{\\{a,c,d\\}} act_a = t$\",\n",
    "    \"$\\cb_{\\{b,c\\}} \\cb_{\\{a,b,c,d\\}} act_a = f \\land \\cb_{\\{a,d\\}} act_a = t$\",\n",
    "    \"$\\db_{\\{a,b,c,d\\}} \\eb_{\\{a,b,c,d\\}} act_a = t \\land \\cb_{\\{a,b,c,d\\}} act_a = t \\rightarrow \\unknown$\",\n",
    "    \"$\\db_{\\{a,b,c,d\\}} \\eb_{\\{a,b,c,d\\}} act_a = t \\land B_a \\eb_{\\{a,b,c,d\\}} act_a = t \\rightarrow \\unknown$\",\n",
    "    ]\n",
    "\n"
   ]
  },
  {
   "cell_type": "markdown",
   "metadata": {},
   "source": [
    "The Following part is for number:"
   ]
  },
  {
   "cell_type": "code",
   "execution_count": null,
   "metadata": {},
   "outputs": [],
   "source": [
    "dir_name = os.path.join(\"amass_result\",\"num\")\n",
    "goal_list = [\n",
    "    \"$\\eb_{\\{a,b\\}} n<2$\",\n",
    "    \"$\\db_{\\{a,b\\}} n<2$\",\n",
    "    \"$\\cb_{\\{a,b\\}} n<2$\",\n",
    "    \"$\\eb_{\\{a,b\\}} n<2 \\land \\neg \\cb_{\\{a,b\\}} n<2 $\",\n",
    "    \"$\\eb_{\\{a,b\\}} \\eb_{\\{a,b\\}} n<2 \\land \\neg \\cb_{\\{a,b\\}} n<2 $\",\n",
    "    \"$\\neg \\eb_{\\{a,b\\}} n=1 \\land \\neg \\eb_{\\{a,b\\}} n=2 \\land \\cb_{\\{a,b\\}} n<2$\",\n",
    "    \"$B_a \\cb_{\\{a,b\\}} n=2 \\land B_b \\cb_{\\{a,b\\}} n=1$\"]\n",
    "\n",
    "\n",
    "\n",
    "\n"
   ]
  },
  {
   "cell_type": "code",
   "execution_count": 37,
   "metadata": {},
   "outputs": [
    {
     "name": "stdout",
     "output_type": "stream",
     "text": [
      "{'solvable': True, 'plan': ['sharing_truth-a-a'], 'pruned': 0, 'pruned_by_unknown': 0, 'pruned_by_visited': 0, 'goal_checked': 35, 'expanded': 5, 'generated': 35, 'epistemic_calls': 41, 'epistemic_call_time': 0.157684, 'domain_name': 'group_grapevine', 'problem': 'group_grapevine_01', 'search': 'fbfsdc', 'init_time': 0.12225, 'search_time': 0.183303}\n",
      "{'solvable': True, 'plan': ['move_right-b', 'sharing_truth-a-a', 'move_right-a', 'sharing_truth-a-a'], 'pruned': 174, 'pruned_by_unknown': 82, 'pruned_by_visited': 92, 'goal_checked': 532, 'expanded': 66, 'generated': 450, 'epistemic_calls': 691, 'epistemic_call_time': 4.6663, 'domain_name': 'group_grapevine', 'problem': 'group_grapevine_02', 'search': 'fbfsdc', 'init_time': 0.001697, 'search_time': 5.016896}\n",
      "{'solvable': True, 'plan': ['move_right-b', 'sharing_truth-a-a', 'move_right-a', 'sharing_truth-a-a', 'move_left-b', 'sharing_truth-b-a'], 'pruned': 1213, 'pruned_by_unknown': 296, 'pruned_by_visited': 917, 'goal_checked': 2124, 'expanded': 240, 'generated': 1828, 'epistemic_calls': 3282, 'epistemic_call_time': 39.441586, 'domain_name': 'group_grapevine', 'problem': 'group_grapevine_03', 'search': 'fbfsdc', 'init_time': 0.001811, 'search_time': 41.951128}\n",
      "{'solvable': True, 'plan': ['lying-a', 'move_right-b', 'sharing-a'], 'pruned': 121, 'pruned_by_unknown': 0, 'pruned_by_visited': 121, 'goal_checked': 913, 'expanded': 103, 'generated': 913, 'epistemic_calls': 1138, 'epistemic_call_time': 7.501047, 'domain_name': 'group_grapevine', 'problem': 'group_grapevine_04', 'search': 'fbfsdc', 'init_time': 0.002324, 'search_time': 8.049798}\n",
      "{'solvable': True, 'plan': ['lying-a', 'move_right-a', 'move_right-d', 'sharing-a'], 'pruned': 504, 'pruned_by_unknown': 0, 'pruned_by_visited': 504, 'goal_checked': 2959, 'expanded': 328, 'generated': 2959, 'epistemic_calls': 3792, 'epistemic_call_time': 54.764597, 'domain_name': 'group_grapevine', 'problem': 'group_grapevine_05', 'search': 'fbfsdc', 'init_time': 0.001778, 'search_time': 56.740932}\n",
      "{'solvable': True, 'plan': ['move_right-b', 'sharing_truth-a-a', 'move_right-c', 'sharing_truth-c-a'], 'pruned': 208, 'pruned_by_unknown': 113, 'pruned_by_visited': 95, 'goal_checked': 568, 'expanded': 70, 'generated': 455, 'epistemic_calls': 734, 'epistemic_call_time': 1.821568, 'domain_name': 'group_grapevine', 'problem': 'group_grapevine_06', 'search': 'fbfsdc', 'init_time': 0.002636, 'search_time': 2.238237}\n",
      "{'solvable': True, 'plan': ['move_right-b', 'sharing_truth-a-a', 'move_right-a', 'sharing_truth-a-a', 'move_left-b', 'sharing_truth-b-a'], 'pruned': 1213, 'pruned_by_unknown': 296, 'pruned_by_visited': 917, 'goal_checked': 2124, 'expanded': 240, 'generated': 1828, 'epistemic_calls': 3282, 'epistemic_call_time': 42.634501, 'domain_name': 'group_grapevine', 'problem': 'group_grapevine_07', 'search': 'fbfsdc', 'init_time': 0.002258, 'search_time': 45.285657}\n",
      "[{'solvable': True, 'plan': '-,sharing_truth-a-a', 'pruned': 0, 'pruned_by_unknown': 0, 'pruned_by_visited': 0, 'goal_checked': 35, 'expanded': 5, 'generated': 35, 'epistemic_calls': 41, 'epistemic_call_time': 0.157684, 'domain_name': 'group_grapevine', 'problem': 'group_grapevine_01', 'search': 'fbfsdc', 'init_time': 0.12225, 'search_time': 0.183303, 'plan_length': 1}, {'solvable': True, 'plan': '-,move_right-b,sharing_truth-a-a,move_right-a,sharing_truth-a-a', 'pruned': 174, 'pruned_by_unknown': 82, 'pruned_by_visited': 92, 'goal_checked': 532, 'expanded': 66, 'generated': 450, 'epistemic_calls': 691, 'epistemic_call_time': 4.6663, 'domain_name': 'group_grapevine', 'problem': 'group_grapevine_02', 'search': 'fbfsdc', 'init_time': 0.001697, 'search_time': 5.016896, 'plan_length': 4}, {'solvable': True, 'plan': '-,move_right-b,sharing_truth-a-a,move_right-a,sharing_truth-a-a,move_left-b,sharing_truth-b-a', 'pruned': 1213, 'pruned_by_unknown': 296, 'pruned_by_visited': 917, 'goal_checked': 2124, 'expanded': 240, 'generated': 1828, 'epistemic_calls': 3282, 'epistemic_call_time': 39.441586, 'domain_name': 'group_grapevine', 'problem': 'group_grapevine_03', 'search': 'fbfsdc', 'init_time': 0.001811, 'search_time': 41.951128, 'plan_length': 6}, {'solvable': True, 'plan': '-,lying-a,move_right-b,sharing-a', 'pruned': 121, 'pruned_by_unknown': 0, 'pruned_by_visited': 121, 'goal_checked': 913, 'expanded': 103, 'generated': 913, 'epistemic_calls': 1138, 'epistemic_call_time': 7.501047, 'domain_name': 'group_grapevine', 'problem': 'group_grapevine_04', 'search': 'fbfsdc', 'init_time': 0.002324, 'search_time': 8.049798, 'plan_length': 3}, {'solvable': True, 'plan': '-,lying-a,move_right-a,move_right-d,sharing-a', 'pruned': 504, 'pruned_by_unknown': 0, 'pruned_by_visited': 504, 'goal_checked': 2959, 'expanded': 328, 'generated': 2959, 'epistemic_calls': 3792, 'epistemic_call_time': 54.764597, 'domain_name': 'group_grapevine', 'problem': 'group_grapevine_05', 'search': 'fbfsdc', 'init_time': 0.001778, 'search_time': 56.740932, 'plan_length': 4}, {'solvable': True, 'plan': '-,move_right-b,sharing_truth-a-a,move_right-c,sharing_truth-c-a', 'pruned': 208, 'pruned_by_unknown': 113, 'pruned_by_visited': 95, 'goal_checked': 568, 'expanded': 70, 'generated': 455, 'epistemic_calls': 734, 'epistemic_call_time': 1.821568, 'domain_name': 'group_grapevine', 'problem': 'group_grapevine_06', 'search': 'fbfsdc', 'init_time': 0.002636, 'search_time': 2.238237, 'plan_length': 4}, {'solvable': True, 'plan': '-,move_right-b,sharing_truth-a-a,move_right-a,sharing_truth-a-a,move_left-b,sharing_truth-b-a', 'pruned': 1213, 'pruned_by_unknown': 296, 'pruned_by_visited': 917, 'goal_checked': 2124, 'expanded': 240, 'generated': 1828, 'epistemic_calls': 3282, 'epistemic_call_time': 42.634501, 'domain_name': 'group_grapevine', 'problem': 'group_grapevine_07', 'search': 'fbfsdc', 'init_time': 0.002258, 'search_time': 45.285657, 'plan_length': 6}]\n",
      "['plan' 'expanded' 'generated' 'epistemic_calls' 'epistemic_call_time'\n",
      " 'init_time' 'search_time' 'plan_length']\n",
      "   expanded  generated  epistemic_calls  epistemic_call_time  search_time  \\\n",
      "0         5         35               41             0.157684     0.183303   \n",
      "1        66        450              691             4.666300     5.016896   \n",
      "2       240       1828             3282            39.441586    41.951128   \n",
      "3       103        913             1138             7.501047     8.049798   \n",
      "4       328       2959             3792            54.764597    56.740932   \n",
      "5        70        455              734             1.821568     2.238237   \n",
      "6       240       1828             3282            42.634501    45.285657   \n",
      "\n",
      "   plan_length                                               plan  \n",
      "0            1                                -,sharing_truth-a-a  \n",
      "1            4  -,move_right-b,sharing_truth-a-a,move_right-a,...  \n",
      "2            6  -,move_right-b,sharing_truth-a-a,move_right-a,...  \n",
      "3            3                   -,lying-a,move_right-b,sharing-a  \n",
      "4            4      -,lying-a,move_right-a,move_right-d,sharing-a  \n",
      "5            4  -,move_right-b,sharing_truth-a-a,move_right-c,...  \n",
      "6            6  -,move_right-b,sharing_truth-a-a,move_right-a,...  \n"
     ]
    }
   ],
   "source": [
    "\n",
    "import os\n",
    "import pandas\n",
    "import json\n",
    "from util import ActionList2DictKey\n",
    "\n",
    "\n",
    "plan_str_prefix_list= [ goal_str + \" \\\\\\\\ % \" for goal_str in goal_list]\n",
    "\n",
    "\n",
    "result_json = list()\n",
    "\n",
    "\n",
    "dir_name = os.path.join(\"amass_result\",\"grapevine\")\n",
    "path_list= os.listdir(dir_name)\n",
    "index = 0\n",
    "for file_name in sorted(path_list):\n",
    "    if '.json' in file_name:\n",
    "        with open(os.path.join(dir_name,file_name),'r') as f:\n",
    "            json_item = json.load(f)\n",
    "            print(json_item)\n",
    "            if \"plan\" in json_item.keys():\n",
    "                plan = json_item['plan']\n",
    "                json_item.update({\"plan_length\":len(plan)})\n",
    "                plan_str = ActionList2DictKey(plan)\n",
    "                json_item.update({\"plan\":plan_str})\n",
    "                \n",
    "            # search_str = json_item[\"search\"] \n",
    "\n",
    "            result_json.append(json_item)\n",
    "            index= index+1\n",
    "        \n",
    "print(result_json)\n",
    "\n",
    "# excel_file_name = options.output_path+options.output_path.replace('\\\\','_').replace('/','_').replace('.','')+\".xlsx\"\n",
    "\n",
    "# writer = pd.ExcelWriter(excel_file_name, engine='xlsxwriter')\n",
    "\n",
    "\n",
    "\n",
    "df_json = pandas.DataFrame.from_dict(result_json)\n",
    "# print(df_json)\n",
    "# new_df=df_json.drop(columns=['solvable', 'domain_name','search','pruned','pruned_by_unknown','pruned_by_visited','problem','goal_checked'])\n",
    "cols = df_json.columns.values\n",
    "print(cols)\n",
    "cols = ['expanded' ,'generated', 'epistemic_calls', 'epistemic_call_time', 'search_time', 'plan_length','plan']\n",
    "# cols = list(new_df.columns.values)[1:]+['plan']\n",
    "new_df = df_json[cols]\n",
    "print(new_df)\n",
    "\n",
    "latex_df = new_df.to_latex()\n",
    "# print(latex_df)\n",
    "\n",
    "with open(os.path.join(dir_name,\"table.latex\"),'w') as f:\n",
    "    f.write(latex_df)\n",
    "    \n"
   ]
  }
 ],
 "metadata": {
  "kernelspec": {
   "display_name": "Python 3",
   "language": "python",
   "name": "python3"
  },
  "language_info": {
   "codemirror_mode": {
    "name": "ipython",
    "version": 3
   },
   "file_extension": ".py",
   "mimetype": "text/x-python",
   "name": "python",
   "nbconvert_exporter": "python",
   "pygments_lexer": "ipython3",
   "version": "3.8.10"
  },
  "orig_nbformat": 4,
  "vscode": {
   "interpreter": {
    "hash": "be20a142c3a3c1fec0f2a3fd728a43c6f1e3462a51ebeb0c006ecb4e4d65288e"
   }
  }
 },
 "nbformat": 4,
 "nbformat_minor": 2
}
